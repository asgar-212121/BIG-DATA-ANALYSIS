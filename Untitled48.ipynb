{
  "nbformat": 4,
  "nbformat_minor": 0,
  "metadata": {
    "colab": {
      "provenance": []
    },
    "kernelspec": {
      "name": "python3",
      "display_name": "Python 3"
    },
    "language_info": {
      "name": "python"
    }
  },
  "cells": [
    {
      "cell_type": "markdown",
      "source": [
        "## Task 1 - Big Data Analysis"
      ],
      "metadata": {
        "id": "RUlg_yKuajWw"
      }
    },
    {
      "cell_type": "code",
      "source": [
        "!pip install Faker # Installs the 'faker' library if it's not already installed\n",
        "\n",
        "from faker import Faker # Imports the Faker class for generating fake data\n",
        "import pandas as pd # Imports the pandas library for data manipulation\n",
        "\n",
        "fake = Faker() # Creates an instance of the Faker class\n",
        "data = {'ID': [i for i in range(1, 10001)], # Generates a list of IDs from 1 to 10000\n",
        "        'Name': [fake.name() for _ in range(10000)], # Generates a list of 10000 fake names\n",
        "        'Age': [fake.random_int(min=18, max=60) for _ in range(10000)], # Generates a list of 10000 fake ages between 18 and 60\n",
        "        'Salary': [fake.random_int(min=30000, max=150000) for _ in range(10000)], # Generates a list of 10000 fake salaries between 30000 and 150000\n",
        "        'Department': [fake.random_element(elements=('HR', 'IT', 'Finance', 'Marketing')) for _ in range(10000)]} # Generates a list of 10000 fake departments\n",
        "\n",
        "df = pd.DataFrame(data) # Creates a pandas DataFrame from the generated data\n",
        "df.to_csv(\"employee_data.csv\", index=False) # Saves the DataFrame to a CSV file named \"employee_data.csv\" without the index column"
      ],
      "metadata": {
        "colab": {
          "base_uri": "https://localhost:8080/"
        },
        "id": "-hEMzm6qauBt",
        "outputId": "20a95b62-3dab-4bf4-e55b-4267c007cbd6"
      },
      "execution_count": null,
      "outputs": [
        {
          "output_type": "stream",
          "name": "stdout",
          "text": [
            "Requirement already satisfied: Faker in /usr/local/lib/python3.11/dist-packages (37.1.0)\n",
            "Requirement already satisfied: tzdata in /usr/local/lib/python3.11/dist-packages (from Faker) (2025.2)\n"
          ]
        }
      ]
    },
    {
      "cell_type": "markdown",
      "source": [
        "## Step 2: PySpark Setup Karna"
      ],
      "metadata": {
        "id": "7T5BkSJHbPVO"
      }
    },
    {
      "cell_type": "code",
      "source": [
        "pip install pyspark\n"
      ],
      "metadata": {
        "colab": {
          "base_uri": "https://localhost:8080/"
        },
        "id": "1qaephUta45g",
        "outputId": "a5ac796c-d813-4903-e302-0649d231a5d0"
      },
      "execution_count": null,
      "outputs": [
        {
          "output_type": "stream",
          "name": "stdout",
          "text": [
            "Requirement already satisfied: pyspark in /usr/local/lib/python3.11/dist-packages (3.5.5)\n",
            "Requirement already satisfied: py4j==0.10.9.7 in /usr/local/lib/python3.11/dist-packages (from pyspark) (0.10.9.7)\n"
          ]
        }
      ]
    },
    {
      "cell_type": "code",
      "source": [
        "from pyspark.sql import SparkSession\n",
        "\n",
        "spark = SparkSession.builder.appName(\"BigDataAnalysis\").getOrCreate()\n"
      ],
      "metadata": {
        "id": "G7-6vWVNa7dE"
      },
      "execution_count": null,
      "outputs": []
    },
    {
      "cell_type": "markdown",
      "source": [
        "## Step 3: Dataset Load Karna"
      ],
      "metadata": {
        "id": "l3hCSKUubYiO"
      }
    },
    {
      "cell_type": "code",
      "source": [
        "df = spark.read.csv(\"employee_data.csv\", header=True, inferSchema=True)\n",
        "df.show(5)"
      ],
      "metadata": {
        "colab": {
          "base_uri": "https://localhost:8080/"
        },
        "id": "LHe8CtbnbdK4",
        "outputId": "f2031e3a-f9f2-4e72-98e1-b15b44799a7c"
      },
      "execution_count": null,
      "outputs": [
        {
          "output_type": "stream",
          "name": "stdout",
          "text": [
            "+---+------------------+---+------+----------+\n",
            "| ID|              Name|Age|Salary|Department|\n",
            "+---+------------------+---+------+----------+\n",
            "|  1|       Randy Solis| 21| 47634|   Finance|\n",
            "|  2|      Donna Levine| 46| 53273|   Finance|\n",
            "|  3|        Robert Fox| 38| 83998|   Finance|\n",
            "|  4|    Sean Alexander| 40|132747|        HR|\n",
            "|  5|Mrs. Alexis Wilson| 42| 64290|        IT|\n",
            "+---+------------------+---+------+----------+\n",
            "only showing top 5 rows\n",
            "\n"
          ]
        }
      ]
    },
    {
      "cell_type": "markdown",
      "source": [
        "##Step 4: Data Exploration aur Cleaning"
      ],
      "metadata": {
        "id": "bwkscW79bs3W"
      }
    },
    {
      "cell_type": "code",
      "source": [
        "df = df.dropna()  # NULL values remove karne ke liye\n",
        "df.printSchema()  # Schema check karne ke liye\n"
      ],
      "metadata": {
        "colab": {
          "base_uri": "https://localhost:8080/"
        },
        "id": "pY1vJ73vbvO9",
        "outputId": "a9f21d4e-0c3a-4772-8cf5-371885a5eba0"
      },
      "execution_count": null,
      "outputs": [
        {
          "output_type": "stream",
          "name": "stdout",
          "text": [
            "root\n",
            " |-- ID: integer (nullable = true)\n",
            " |-- Name: string (nullable = true)\n",
            " |-- Age: integer (nullable = true)\n",
            " |-- Salary: integer (nullable = true)\n",
            " |-- Department: string (nullable = true)\n",
            "\n"
          ]
        }
      ]
    },
    {
      "cell_type": "code",
      "source": [
        "df.describe().show()\n",
        "df.select(\"Department\").distinct().show()\n"
      ],
      "metadata": {
        "colab": {
          "base_uri": "https://localhost:8080/"
        },
        "id": "27ZCYlEOb0g-",
        "outputId": "7b4944cf-a09d-45bc-e0e7-c95a01d529c0"
      },
      "execution_count": null,
      "outputs": [
        {
          "output_type": "stream",
          "name": "stdout",
          "text": [
            "+-------+------------------+-----------+------------------+-----------------+----------+\n",
            "|summary|                ID|       Name|               Age|           Salary|Department|\n",
            "+-------+------------------+-----------+------------------+-----------------+----------+\n",
            "|  count|             10000|      10000|             10000|            10000|     10000|\n",
            "|   mean|            5000.5|       NULL|           39.0989|       90232.9077|      NULL|\n",
            "| stddev|2886.8956799071675|       NULL|12.510954047838203|34767.25145582782|      NULL|\n",
            "|    min|                 1|Aaron Baker|                18|            30002|   Finance|\n",
            "|    max|             10000| Zoe Butler|                60|           149995| Marketing|\n",
            "+-------+------------------+-----------+------------------+-----------------+----------+\n",
            "\n",
            "+----------+\n",
            "|Department|\n",
            "+----------+\n",
            "|        HR|\n",
            "|   Finance|\n",
            "| Marketing|\n",
            "|        IT|\n",
            "+----------+\n",
            "\n"
          ]
        }
      ]
    },
    {
      "cell_type": "markdown",
      "source": [
        "##Step 5: Basic Data Analysis with PySpark"
      ],
      "metadata": {
        "id": "MRiM69UJcHTT"
      }
    },
    {
      "cell_type": "code",
      "source": [
        "df.groupBy(\"Department\").avg(\"Salary\").show()\n"
      ],
      "metadata": {
        "colab": {
          "base_uri": "https://localhost:8080/"
        },
        "id": "3zRoSNS9cJoj",
        "outputId": "73648dc0-7211-4732-f189-f37427a8c135"
      },
      "execution_count": null,
      "outputs": [
        {
          "output_type": "stream",
          "name": "stdout",
          "text": [
            "+----------+-----------------+\n",
            "|Department|      avg(Salary)|\n",
            "+----------+-----------------+\n",
            "|        HR|90609.99037690458|\n",
            "|   Finance|90278.34525723473|\n",
            "| Marketing|89816.71833265884|\n",
            "|        IT|90223.05732234001|\n",
            "+----------+-----------------+\n",
            "\n"
          ]
        }
      ]
    },
    {
      "cell_type": "code",
      "source": [
        "df.groupBy(\"Age\").count().orderBy(\"Age\").show()\n"
      ],
      "metadata": {
        "colab": {
          "base_uri": "https://localhost:8080/"
        },
        "id": "-v8-R1MHcPX2",
        "outputId": "3f45d515-b7b6-4d2e-a72d-059d7b0ec50b"
      },
      "execution_count": null,
      "outputs": [
        {
          "output_type": "stream",
          "name": "stdout",
          "text": [
            "+---+-----+\n",
            "|Age|count|\n",
            "+---+-----+\n",
            "| 18|  241|\n",
            "| 19|  239|\n",
            "| 20|  248|\n",
            "| 21|  232|\n",
            "| 22|  212|\n",
            "| 23|  225|\n",
            "| 24|  254|\n",
            "| 25|  235|\n",
            "| 26|  258|\n",
            "| 27|  236|\n",
            "| 28|  222|\n",
            "| 29|  220|\n",
            "| 30|  214|\n",
            "| 31|  224|\n",
            "| 32|  222|\n",
            "| 33|  210|\n",
            "| 34|  239|\n",
            "| 35|  215|\n",
            "| 36|  206|\n",
            "| 37|  213|\n",
            "+---+-----+\n",
            "only showing top 20 rows\n",
            "\n"
          ]
        }
      ]
    },
    {
      "cell_type": "code",
      "source": [
        "df.orderBy(df.Salary.desc()).show(10)\n"
      ],
      "metadata": {
        "colab": {
          "base_uri": "https://localhost:8080/"
        },
        "id": "AjySzfrecXHS",
        "outputId": "95720541-5f23-49ee-d884-662784d23aa1"
      },
      "execution_count": null,
      "outputs": [
        {
          "output_type": "stream",
          "name": "stdout",
          "text": [
            "+----+-----------------+---+------+----------+\n",
            "|  ID|             Name|Age|Salary|Department|\n",
            "+----+-----------------+---+------+----------+\n",
            "|8960|Deborah Hernandez| 54|149995|        IT|\n",
            "|7050|    Steven George| 42|149994|        IT|\n",
            "|4642|      Travis Pope| 52|149985| Marketing|\n",
            "|6958|   Jennifer Haley| 18|149967|        IT|\n",
            "| 168|    Denise Flores| 26|149945|        HR|\n",
            "|1275|Deborah Singleton| 20|149939|        IT|\n",
            "|9245|     Andrea Bowen| 42|149933|        HR|\n",
            "|2715|   Andrea Jackson| 25|149928|        IT|\n",
            "|9852|    Tamara Garcia| 19|149919|        HR|\n",
            "|9716|    Chelsea Smith| 29|149901|   Finance|\n",
            "+----+-----------------+---+------+----------+\n",
            "only showing top 10 rows\n",
            "\n"
          ]
        }
      ]
    },
    {
      "cell_type": "markdown",
      "source": [
        "##Step 6: Data Visualization"
      ],
      "metadata": {
        "id": "yly-cPejc3MH"
      }
    },
    {
      "cell_type": "code",
      "source": [
        "import matplotlib.pyplot as plt\n",
        "\n",
        "pandas_df = df.toPandas()\n",
        "pandas_df.groupby(\"Department\")[\"Salary\"].mean().plot(kind=\"bar\")\n",
        "plt.xlabel(\"Department\")\n",
        "plt.ylabel(\"Average Salary\")\n",
        "plt.title(\"Department-wise Average Salary\")\n",
        "plt.show()\n"
      ],
      "metadata": {
        "colab": {
          "base_uri": "https://localhost:8080/",
          "height": 527
        },
        "id": "g4uB02mgc5lJ",
        "outputId": "f3e8aade-0780-40d3-e0b9-e0f10990f42b"
      },
      "execution_count": null,
      "outputs": [
        {
          "output_type": "display_data",
          "data": {
            "text/plain": [
              "<Figure size 640x480 with 1 Axes>"
            ],
            "image/png": "[encoded data removed]"
          },
          "metadata": {}
        }
      ]
    }
  ]
}